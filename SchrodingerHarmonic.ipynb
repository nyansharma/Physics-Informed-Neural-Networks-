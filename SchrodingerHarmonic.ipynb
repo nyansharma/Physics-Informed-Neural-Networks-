{
 "cells": [
  {
   "cell_type": "code",
   "execution_count": null,
   "id": "a2732afe",
   "metadata": {},
   "outputs": [],
   "source": [
    "#importing all necessary packages \n",
    "import torch\n",
    "import tqdm\n",
    "import matplotlib.pyplot as plt\n",
    "import numpy as np\n",
    "import h5py \n",
    "import tqdm \n",
    "import scipy \n"
   ]
  },
  {
   "cell_type": "code",
   "execution_count": null,
   "id": "f2222cb5",
   "metadata": {},
   "outputs": [],
   "source": [
    "#Declaring Variable Values\n",
    "MASS = 1\n",
    "T0 = 2*np.pi\n",
    "NT = 1000\n",
    "DELTAT= T0/NT\n",
    "BOXSIZE = 8\n",
    "ND = 1000\n",
    "DELTAX = BOXSIZE / ND\n",
    "HBAR = 1\n",
    "OMEGA = 1\n",
    "XSTART = 0\n",
    "t = np.linspace(0, T0, NT+1)\n",
    "x = np.linspace(-BOXSIZE / 2, BOXSIZE / 2, ND+1)"
   ]
  },
  {
   "cell_type": "code",
   "execution_count": null,
   "id": "9e1b6707",
   "metadata": {},
   "outputs": [],
   "source": [
    "#Creating training dataset\n",
    "f = h5py.File.in_memory() \n",
    "\n",
    "#Propagating the Wavefunction\n",
    "K_dt = np.zeros((ND+1, ND+1), dtype=np.complex64)\n",
    "def func_K(x_b, x_a, dt):\n",
    "    coeff = np.sqrt((1j*MASS*OMEGA)/(2*np.pi*np.sin(OMEGA*dt)))\n",
    "    exponent = 1j*((MASS*OMEGA)/(2*HBAR*np.sin(OMEGA*dt)))*((x_a**2+x_b**2)*np.cos(OMEGA*dt)-2*x_a*x_b)\n",
    "    return coeff * np.exp(exponent)\n",
    "for i in tqdm.tqdm(range(ND+1)):\n",
    "    for j in tqdm.tqdm(range(ND+1)):\n",
    "        K_dt[i,j] = func_K(x[j], x[i], DELTAT)\n",
    "#Analytical Wavefunction Ground State\n",
    "def func_psi(x, x_start):\n",
    "    coeff = (MASS*OMEGA/(np.pi * HBAR))**0.25\n",
    "    exp =  (-1*MASS*OMEGA*(x-x_start)**2)/(2*HBAR)\n",
    "    return coeff*np.exp(exp)\n",
    "psi_0 = func_psi(x, XSTART)\n",
    "psi = [psi_0]\n",
    "for i in range(1, NT+_1):\n",
    "    psi_t = DELTAX*np.matmul(K_dt, psi[i-1])\n",
    "    #normalization\n",
    "    psi_t = psi_t/(np.sqrt(DELTAX*np.sum(psi_t*psi_t.conjugate())))\n",
    "    psi.append(psi_t)\n",
    "prob = []\n",
    "for i in range (NT+1):\n",
    "    prob.append(np.real(psi[i]*psi[i].conjugate()))\n",
    "#Dataset needs to store (t,x) values\n",
    "training_data = f.create_dataset(\"Training\", data=K_dt)\n",
    "print(training_data)"
   ]
  },
  {
   "cell_type": "code",
   "execution_count": null,
   "id": "0d76e378",
   "metadata": {},
   "outputs": [],
   "source": []
  }
 ],
 "metadata": {
  "kernelspec": {
   "display_name": "Python 3",
   "language": "python",
   "name": "python3"
  },
  "language_info": {
   "codemirror_mode": {
    "name": "ipython",
    "version": 3
   },
   "file_extension": ".py",
   "mimetype": "text/x-python",
   "name": "python",
   "nbconvert_exporter": "python",
   "pygments_lexer": "ipython3",
   "version": "3.11.9"
  }
 },
 "nbformat": 4,
 "nbformat_minor": 5
}
